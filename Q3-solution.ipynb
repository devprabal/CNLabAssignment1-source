{
 "cells": [
  {
   "cell_type": "markdown",
   "metadata": {},
   "source": [
    "## Q3"
   ]
  },
  {
   "cell_type": "markdown",
   "metadata": {},
   "source": [
    "Netstat command displays various network related information such as network connections, routing tables, interface statistics, masquerade connections, multicast memberships etc.,\n",
    "\n",
    "This program is mostly obsolete.  Replacement for netstat is ss.  Replacement  for  netstat  -r  is  ip route. Replacement for netstat -i is ip -s link.  Replacement for netstat -g is ip maddr."
   ]
  },
  {
   "cell_type": "markdown",
   "metadata": {},
   "source": [
    "Netstat prints information about the Linux networking subsystem.  The type of information printed is controlled by the first argument, as follows:\n",
    "\n",
    "   (none)\n",
    "       By default, netstat displays a list of open sockets.  If you don't specify\n",
    "       any address families, then the active sockets of  all  configured  address\n",
    "       families will be printed.\n",
    "\n",
    "   --route, -r\n",
    "       Display  the  kernel  routing  tables. See the description in route(8) for\n",
    "       details.  netstat -r and route -e produce the same output.\n",
    "\n",
    "   --groups, -g\n",
    "       Display multicast group membership information for IPv4 and IPv6.\n",
    "\n",
    "   --interfaces, -i\n",
    "       Display a table of all network interfaces.\n",
    "\n",
    "   --masquerade, -M\n",
    "       Display a list of masqueraded connections.\n",
    "\n",
    "   --statistics, -s\n",
    "       Display summary statistics for each protocol."
   ]
  },
  {
   "cell_type": "markdown",
   "metadata": {},
   "source": [
    "```netstat -tn```"
   ]
  },
  {
   "cell_type": "markdown",
   "metadata": {},
   "source": [
    "![Fig3.1](netstat_tcp_established.png)"
   ]
  },
  {
   "cell_type": "markdown",
   "metadata": {},
   "source": [
    "Local address : It is the IP address of the local computer (your device) and the port number being used. This address is assigned to you by your router DHCP servers. \n",
    "\n",
    "Foreign address : It is the IP address and port number of the remote computer to which the socket is connected. "
   ]
  },
  {
   "cell_type": "markdown",
   "metadata": {},
   "source": [
    "```netstat -r : To get the kernel routing information.```"
   ]
  },
  {
   "cell_type": "markdown",
   "metadata": {},
   "source": [
    "![Fig3.2](netstat-r.png)"
   ]
  },
  {
   "cell_type": "markdown",
   "metadata": {},
   "source": [
    "```netstat -i : To get the list of network interfaces.```"
   ]
  },
  {
   "cell_type": "markdown",
   "metadata": {},
   "source": [
    "![Fig3.3](netstat-i.png)"
   ]
  },
  {
   "cell_type": "markdown",
   "metadata": {},
   "source": [
    "**loopback**  ```lo```"
   ]
  },
  {
   "cell_type": "markdown",
   "metadata": {},
   "source": [
    "The loopback device is a special, virtual network interface that your computer uses to communicate with itself. It is used mainly for diagnostics and troubleshooting, and to connect to servers running on the local machine.\n",
    "\n",
    "The loopback interface does not represent any actual hardware, but exists so applications running on your computer can always connect to servers on the same machine.\n",
    "\n",
    "For example, if you run a web server, you have all your web documents and could examine them file by file. You may be able to load the files in your browser too"
   ]
  }
 ],
 "metadata": {
  "hide_input": false,
  "kernelspec": {
   "display_name": "Python 3",
   "language": "python",
   "name": "python3"
  },
  "language_info": {
   "codemirror_mode": {
    "name": "ipython",
    "version": 3
   },
   "file_extension": ".py",
   "mimetype": "text/x-python",
   "name": "python",
   "nbconvert_exporter": "python",
   "pygments_lexer": "ipython3",
   "version": "3.6.5"
  },
  "varInspector": {
   "cols": {
    "lenName": 16,
    "lenType": 16,
    "lenVar": 40
   },
   "kernels_config": {
    "python": {
     "delete_cmd_postfix": "",
     "delete_cmd_prefix": "del ",
     "library": "var_list.py",
     "varRefreshCmd": "print(var_dic_list())"
    },
    "r": {
     "delete_cmd_postfix": ") ",
     "delete_cmd_prefix": "rm(",
     "library": "var_list.r",
     "varRefreshCmd": "cat(var_dic_list()) "
    }
   },
   "types_to_exclude": [
    "module",
    "function",
    "builtin_function_or_method",
    "instance",
    "_Feature"
   ],
   "window_display": false
  }
 },
 "nbformat": 4,
 "nbformat_minor": 2
}
