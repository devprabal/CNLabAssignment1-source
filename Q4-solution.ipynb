{
 "cells": [
  {
   "cell_type": "code",
   "execution_count": 121,
   "metadata": {
    "hide_input": true
   },
   "outputs": [],
   "source": [
    "import pandas as pd"
   ]
  },
  {
   "cell_type": "code",
   "execution_count": 122,
   "metadata": {
    "hide_input": true
   },
   "outputs": [],
   "source": [
    "traceroute_data = pd.read_csv(\"Q4_traceroute experiment - Sheet1.csv\")"
   ]
  },
  {
   "cell_type": "code",
   "execution_count": 123,
   "metadata": {
    "hide_input": true
   },
   "outputs": [],
   "source": [
    "#traceroute_data.head()"
   ]
  },
  {
   "cell_type": "markdown",
   "metadata": {},
   "source": [
    "## Q4"
   ]
  },
  {
   "cell_type": "markdown",
   "metadata": {},
   "source": [
    "### information about hosts"
   ]
  },
  {
   "cell_type": "code",
   "execution_count": 124,
   "metadata": {
    "hide_input": true
   },
   "outputs": [
    {
     "data": {
      "text/html": [
       "<div>\n",
       "<style scoped>\n",
       "    .dataframe tbody tr th:only-of-type {\n",
       "        vertical-align: middle;\n",
       "    }\n",
       "\n",
       "    .dataframe tbody tr th {\n",
       "        vertical-align: top;\n",
       "    }\n",
       "\n",
       "    .dataframe thead th {\n",
       "        text-align: right;\n",
       "    }\n",
       "</style>\n",
       "<table border=\"1\" class=\"dataframe\">\n",
       "  <thead>\n",
       "    <tr style=\"text-align: right;\">\n",
       "      <th></th>\n",
       "      <th>registered domain</th>\n",
       "      <th>IP</th>\n",
       "    </tr>\n",
       "  </thead>\n",
       "  <tbody>\n",
       "    <tr>\n",
       "      <th>0</th>\n",
       "      <td>github.com</td>\n",
       "      <td>192.30.253.113</td>\n",
       "    </tr>\n",
       "    <tr>\n",
       "      <th>1</th>\n",
       "      <td>1e100.net</td>\n",
       "      <td>216.239.36.5</td>\n",
       "    </tr>\n",
       "    <tr>\n",
       "      <th>2</th>\n",
       "      <td>primacom.net</td>\n",
       "      <td>77.64.170.23</td>\n",
       "    </tr>\n",
       "    <tr>\n",
       "      <th>3</th>\n",
       "      <td>NaN</td>\n",
       "      <td>207.244.67.218</td>\n",
       "    </tr>\n",
       "    <tr>\n",
       "      <th>4</th>\n",
       "      <td>facebook.com</td>\n",
       "      <td>31.13.92.36</td>\n",
       "    </tr>\n",
       "  </tbody>\n",
       "</table>\n",
       "</div>"
      ],
      "text/plain": [
       "  registered domain              IP\n",
       "0        github.com  192.30.253.113\n",
       "1         1e100.net    216.239.36.5\n",
       "2      primacom.net    77.64.170.23\n",
       "3               NaN  207.244.67.218\n",
       "4      facebook.com     31.13.92.36"
      ]
     },
     "execution_count": 124,
     "metadata": {},
     "output_type": "execute_result"
    }
   ],
   "source": [
    "input_ip = [x for x in traceroute_data['Input'].unique()]\n",
    "registered_domains = [x for x in traceroute_data['Registered Domain'].unique()]\n",
    "hosts = pd.DataFrame({'registered domain':registered_domains, 'IP':input_ip})\n",
    "hosts"
   ]
  },
  {
   "cell_type": "code",
   "execution_count": 125,
   "metadata": {
    "hide_input": true
   },
   "outputs": [],
   "source": [
    "hosts_time_hopcount = traceroute_data[['Input','Registered Domain','Time of day','Hop count']]"
   ]
  },
  {
   "cell_type": "markdown",
   "metadata": {},
   "source": [
    "### hop counts for each host in each time slot"
   ]
  },
  {
   "cell_type": "code",
   "execution_count": 126,
   "metadata": {
    "hide_input": true
   },
   "outputs": [
    {
     "data": {
      "text/html": [
       "<div>\n",
       "<style scoped>\n",
       "    .dataframe tbody tr th:only-of-type {\n",
       "        vertical-align: middle;\n",
       "    }\n",
       "\n",
       "    .dataframe tbody tr th {\n",
       "        vertical-align: top;\n",
       "    }\n",
       "\n",
       "    .dataframe thead th {\n",
       "        text-align: right;\n",
       "    }\n",
       "</style>\n",
       "<table border=\"1\" class=\"dataframe\">\n",
       "  <thead>\n",
       "    <tr style=\"text-align: right;\">\n",
       "      <th></th>\n",
       "      <th>Input</th>\n",
       "      <th>Registered Domain</th>\n",
       "      <th>Time of day</th>\n",
       "      <th>Hop count</th>\n",
       "    </tr>\n",
       "  </thead>\n",
       "  <tbody>\n",
       "    <tr>\n",
       "      <th>0</th>\n",
       "      <td>192.30.253.113</td>\n",
       "      <td>github.com</td>\n",
       "      <td>19</td>\n",
       "      <td>10</td>\n",
       "    </tr>\n",
       "    <tr>\n",
       "      <th>10</th>\n",
       "      <td>192.30.253.113</td>\n",
       "      <td>github.com</td>\n",
       "      <td>22</td>\n",
       "      <td>10</td>\n",
       "    </tr>\n",
       "    <tr>\n",
       "      <th>20</th>\n",
       "      <td>192.30.253.113</td>\n",
       "      <td>github.com</td>\n",
       "      <td>23</td>\n",
       "      <td>10</td>\n",
       "    </tr>\n",
       "    <tr>\n",
       "      <th>30</th>\n",
       "      <td>216.239.36.5</td>\n",
       "      <td>1e100.net</td>\n",
       "      <td>19</td>\n",
       "      <td>5</td>\n",
       "    </tr>\n",
       "    <tr>\n",
       "      <th>35</th>\n",
       "      <td>216.239.36.5</td>\n",
       "      <td>1e100.net</td>\n",
       "      <td>22</td>\n",
       "      <td>5</td>\n",
       "    </tr>\n",
       "    <tr>\n",
       "      <th>40</th>\n",
       "      <td>216.239.36.5</td>\n",
       "      <td>1e100.net</td>\n",
       "      <td>23</td>\n",
       "      <td>5</td>\n",
       "    </tr>\n",
       "    <tr>\n",
       "      <th>45</th>\n",
       "      <td>77.64.170.23</td>\n",
       "      <td>primacom.net</td>\n",
       "      <td>19</td>\n",
       "      <td>20</td>\n",
       "    </tr>\n",
       "    <tr>\n",
       "      <th>65</th>\n",
       "      <td>77.64.170.23</td>\n",
       "      <td>primacom.net</td>\n",
       "      <td>22</td>\n",
       "      <td>20</td>\n",
       "    </tr>\n",
       "    <tr>\n",
       "      <th>85</th>\n",
       "      <td>77.64.170.23</td>\n",
       "      <td>primacom.net</td>\n",
       "      <td>23</td>\n",
       "      <td>20</td>\n",
       "    </tr>\n",
       "    <tr>\n",
       "      <th>105</th>\n",
       "      <td>207.244.67.218</td>\n",
       "      <td>NaN</td>\n",
       "      <td>19</td>\n",
       "      <td>10</td>\n",
       "    </tr>\n",
       "    <tr>\n",
       "      <th>115</th>\n",
       "      <td>207.244.67.218</td>\n",
       "      <td>NaN</td>\n",
       "      <td>22</td>\n",
       "      <td>10</td>\n",
       "    </tr>\n",
       "    <tr>\n",
       "      <th>125</th>\n",
       "      <td>207.244.67.218</td>\n",
       "      <td>NaN</td>\n",
       "      <td>23</td>\n",
       "      <td>10</td>\n",
       "    </tr>\n",
       "    <tr>\n",
       "      <th>135</th>\n",
       "      <td>31.13.92.36</td>\n",
       "      <td>facebook.com</td>\n",
       "      <td>19</td>\n",
       "      <td>13</td>\n",
       "    </tr>\n",
       "    <tr>\n",
       "      <th>148</th>\n",
       "      <td>31.13.92.36</td>\n",
       "      <td>facebook.com</td>\n",
       "      <td>22</td>\n",
       "      <td>13</td>\n",
       "    </tr>\n",
       "    <tr>\n",
       "      <th>161</th>\n",
       "      <td>31.13.92.36</td>\n",
       "      <td>facebook.com</td>\n",
       "      <td>23</td>\n",
       "      <td>13</td>\n",
       "    </tr>\n",
       "  </tbody>\n",
       "</table>\n",
       "</div>"
      ],
      "text/plain": [
       "              Input Registered Domain  Time of day  Hop count\n",
       "0    192.30.253.113        github.com           19         10\n",
       "10   192.30.253.113        github.com           22         10\n",
       "20   192.30.253.113        github.com           23         10\n",
       "30     216.239.36.5         1e100.net           19          5\n",
       "35     216.239.36.5         1e100.net           22          5\n",
       "40     216.239.36.5         1e100.net           23          5\n",
       "45     77.64.170.23      primacom.net           19         20\n",
       "65     77.64.170.23      primacom.net           22         20\n",
       "85     77.64.170.23      primacom.net           23         20\n",
       "105  207.244.67.218               NaN           19         10\n",
       "115  207.244.67.218               NaN           22         10\n",
       "125  207.244.67.218               NaN           23         10\n",
       "135     31.13.92.36      facebook.com           19         13\n",
       "148     31.13.92.36      facebook.com           22         13\n",
       "161     31.13.92.36      facebook.com           23         13"
      ]
     },
     "execution_count": 126,
     "metadata": {},
     "output_type": "execute_result"
    }
   ],
   "source": [
    "hosts_time_hopcount.drop_duplicates()"
   ]
  },
  {
   "cell_type": "markdown",
   "metadata": {},
   "source": [
    "Time of day is in 24 hours. \\[19 means 7:00 pm\\] (with least count of 60 minutes)"
   ]
  },
  {
   "cell_type": "code",
   "execution_count": 127,
   "metadata": {
    "hide_input": true,
    "scrolled": false
   },
   "outputs": [],
   "source": [
    "count_dict = {}\n",
    "counting_common_hosts = traceroute_data[['Input','Registered Domain','Host name']]\n",
    "counting_common_hosts = counting_common_hosts.drop_duplicates()\n",
    "for x in counting_common_hosts['Host name']:\n",
    "    if x !='-':\n",
    "        if x not in count_dict:\n",
    "            count_dict[x] = 1\n",
    "        else:\n",
    "            count_dict[x] = count_dict[x]+1\n",
    "repeated_host_names = []\n",
    "for x in count_dict:\n",
    "    if count_dict[x] == 2:\n",
    "        repeated_host_names.append(x)\n",
    "#repeated_host_names"
   ]
  },
  {
   "cell_type": "markdown",
   "metadata": {},
   "source": [
    "### common hops between two routes"
   ]
  },
  {
   "cell_type": "code",
   "execution_count": 128,
   "metadata": {
    "hide_input": true
   },
   "outputs": [
    {
     "data": {
      "text/html": [
       "<div>\n",
       "<style scoped>\n",
       "    .dataframe tbody tr th:only-of-type {\n",
       "        vertical-align: middle;\n",
       "    }\n",
       "\n",
       "    .dataframe tbody tr th {\n",
       "        vertical-align: top;\n",
       "    }\n",
       "\n",
       "    .dataframe thead th {\n",
       "        text-align: right;\n",
       "    }\n",
       "</style>\n",
       "<table border=\"1\" class=\"dataframe\">\n",
       "  <thead>\n",
       "    <tr style=\"text-align: right;\">\n",
       "      <th></th>\n",
       "      <th>Input</th>\n",
       "      <th>Registered Domain</th>\n",
       "      <th>Host name</th>\n",
       "    </tr>\n",
       "  </thead>\n",
       "  <tbody>\n",
       "    <tr>\n",
       "      <th>49</th>\n",
       "      <td>77.64.170.23</td>\n",
       "      <td>primacom.net</td>\n",
       "      <td>100ge5-1.core2.ash1.he.net</td>\n",
       "    </tr>\n",
       "    <tr>\n",
       "      <th>138</th>\n",
       "      <td>31.13.92.36</td>\n",
       "      <td>facebook.com</td>\n",
       "      <td>100ge5-1.core2.ash1.he.net</td>\n",
       "    </tr>\n",
       "    <tr>\n",
       "      <th>48</th>\n",
       "      <td>77.64.170.23</td>\n",
       "      <td>primacom.net</td>\n",
       "      <td>100ge8-1.core1.ash1.he.net</td>\n",
       "    </tr>\n",
       "    <tr>\n",
       "      <th>137</th>\n",
       "      <td>31.13.92.36</td>\n",
       "      <td>facebook.com</td>\n",
       "      <td>100ge8-1.core1.ash1.he.net</td>\n",
       "    </tr>\n",
       "    <tr>\n",
       "      <th>47</th>\n",
       "      <td>77.64.170.23</td>\n",
       "      <td>primacom.net</td>\n",
       "      <td>100ge8-1.core1.atl1.he.net</td>\n",
       "    </tr>\n",
       "    <tr>\n",
       "      <th>136</th>\n",
       "      <td>31.13.92.36</td>\n",
       "      <td>facebook.com</td>\n",
       "      <td>100ge8-1.core1.atl1.he.net</td>\n",
       "    </tr>\n",
       "    <tr>\n",
       "      <th>50</th>\n",
       "      <td>77.64.170.23</td>\n",
       "      <td>primacom.net</td>\n",
       "      <td>100ge8-1.core1.nyc5.he.net</td>\n",
       "    </tr>\n",
       "    <tr>\n",
       "      <th>139</th>\n",
       "      <td>31.13.92.36</td>\n",
       "      <td>facebook.com</td>\n",
       "      <td>100ge8-1.core1.nyc5.he.net</td>\n",
       "    </tr>\n",
       "    <tr>\n",
       "      <th>46</th>\n",
       "      <td>77.64.170.23</td>\n",
       "      <td>primacom.net</td>\n",
       "      <td>v509.core1.dal1.he.net</td>\n",
       "    </tr>\n",
       "    <tr>\n",
       "      <th>135</th>\n",
       "      <td>31.13.92.36</td>\n",
       "      <td>facebook.com</td>\n",
       "      <td>v509.core1.dal1.he.net</td>\n",
       "    </tr>\n",
       "    <tr>\n",
       "      <th>1</th>\n",
       "      <td>192.30.253.113</td>\n",
       "      <td>github.com</td>\n",
       "      <td>vb2000d1.rar3.dallas-tx.us.xo.net</td>\n",
       "    </tr>\n",
       "    <tr>\n",
       "      <th>106</th>\n",
       "      <td>207.244.67.218</td>\n",
       "      <td>NaN</td>\n",
       "      <td>vb2000d1.rar3.dallas-tx.us.xo.net</td>\n",
       "    </tr>\n",
       "  </tbody>\n",
       "</table>\n",
       "</div>"
      ],
      "text/plain": [
       "              Input Registered Domain                          Host name\n",
       "49     77.64.170.23      primacom.net         100ge5-1.core2.ash1.he.net\n",
       "138     31.13.92.36      facebook.com         100ge5-1.core2.ash1.he.net\n",
       "48     77.64.170.23      primacom.net         100ge8-1.core1.ash1.he.net\n",
       "137     31.13.92.36      facebook.com         100ge8-1.core1.ash1.he.net\n",
       "47     77.64.170.23      primacom.net         100ge8-1.core1.atl1.he.net\n",
       "136     31.13.92.36      facebook.com         100ge8-1.core1.atl1.he.net\n",
       "50     77.64.170.23      primacom.net         100ge8-1.core1.nyc5.he.net\n",
       "139     31.13.92.36      facebook.com         100ge8-1.core1.nyc5.he.net\n",
       "46     77.64.170.23      primacom.net             v509.core1.dal1.he.net\n",
       "135     31.13.92.36      facebook.com             v509.core1.dal1.he.net\n",
       "1    192.30.253.113        github.com  vb2000d1.rar3.dallas-tx.us.xo.net\n",
       "106  207.244.67.218               NaN  vb2000d1.rar3.dallas-tx.us.xo.net"
      ]
     },
     "execution_count": 128,
     "metadata": {},
     "output_type": "execute_result"
    }
   ],
   "source": [
    "counting_common_hosts[counting_common_hosts['Host name'].isin(repeated_host_names)].sort_values(by='Host name')"
   ]
  },
  {
   "cell_type": "code",
   "execution_count": null,
   "metadata": {
    "hide_input": true
   },
   "outputs": [],
   "source": []
  }
 ],
 "metadata": {
  "kernelspec": {
   "display_name": "Python 3",
   "language": "python",
   "name": "python3"
  },
  "language_info": {
   "codemirror_mode": {
    "name": "ipython",
    "version": 3
   },
   "file_extension": ".py",
   "mimetype": "text/x-python",
   "name": "python",
   "nbconvert_exporter": "python",
   "pygments_lexer": "ipython3",
   "version": "3.6.5"
  },
  "varInspector": {
   "cols": {
    "lenName": 16,
    "lenType": 16,
    "lenVar": 40
   },
   "kernels_config": {
    "python": {
     "delete_cmd_postfix": "",
     "delete_cmd_prefix": "del ",
     "library": "var_list.py",
     "varRefreshCmd": "print(var_dic_list())"
    },
    "r": {
     "delete_cmd_postfix": ") ",
     "delete_cmd_prefix": "rm(",
     "library": "var_list.r",
     "varRefreshCmd": "cat(var_dic_list()) "
    }
   },
   "position": {
    "height": "351px",
    "left": "822px",
    "right": "75px",
    "top": "126px",
    "width": "469px"
   },
   "types_to_exclude": [
    "module",
    "function",
    "builtin_function_or_method",
    "instance",
    "_Feature"
   ],
   "window_display": false
  }
 },
 "nbformat": 4,
 "nbformat_minor": 2
}
