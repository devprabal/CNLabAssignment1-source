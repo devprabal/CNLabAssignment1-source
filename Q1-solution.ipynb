{
 "cells": [
  {
   "cell_type": "markdown",
   "metadata": {},
   "source": [
    "## Q1"
   ]
  },
  {
   "cell_type": "code",
   "execution_count": 1,
   "metadata": {
    "hide_input": true
   },
   "outputs": [],
   "source": [
    "import pandas as pd\n",
    "from matplotlib import pyplot as plt\n",
    "%matplotlib inline\n",
    "import seaborn as sns"
   ]
  },
  {
   "cell_type": "code",
   "execution_count": 2,
   "metadata": {
    "hide_input": true
   },
   "outputs": [],
   "source": [
    "data_host1 = pd.read_csv('data_host1.csv')\n",
    "data_host2 = pd.read_csv('data_host2.csv')\n",
    "data_host3 = pd.read_csv('data_host3.csv')\n",
    "data_host4 = pd.read_csv('data_host4.csv')\n",
    "data_host5 = pd.read_csv('data_host5.csv')"
   ]
  },
  {
   "cell_type": "code",
   "execution_count": 3,
   "metadata": {
    "hide_input": true
   },
   "outputs": [],
   "source": [
    "host_names = {'www.facebook.com':'edge-star-mini-shv-01-frt3.facebook.com',\n",
    "             'ligben.io':'no-reverse-dns-configured.com',\n",
    "              'https://distrotest.net/':'77-64-170-23.dynamic.primacom.net',\n",
    "              'www.gmail.com':'fra15s17-in-f5.1e100.net',\n",
    "              'www.github.com':'lb-192-30-253-113-iad.github.com'\n",
    "             }"
   ]
  },
  {
   "cell_type": "code",
   "execution_count": 4,
   "metadata": {
    "hide_input": true
   },
   "outputs": [],
   "source": [
    "host_names_df = pd.DataFrame(host_names,index=[0])"
   ]
  },
  {
   "cell_type": "markdown",
   "metadata": {},
   "source": [
    "### information about 5 hosts selected"
   ]
  },
  {
   "cell_type": "code",
   "execution_count": 5,
   "metadata": {
    "hide_input": true
   },
   "outputs": [
    {
     "data": {
      "text/html": [
       "<div>\n",
       "<style scoped>\n",
       "    .dataframe tbody tr th:only-of-type {\n",
       "        vertical-align: middle;\n",
       "    }\n",
       "\n",
       "    .dataframe tbody tr th {\n",
       "        vertical-align: top;\n",
       "    }\n",
       "\n",
       "    .dataframe thead th {\n",
       "        text-align: right;\n",
       "    }\n",
       "</style>\n",
       "<table border=\"1\" class=\"dataframe\">\n",
       "  <thead>\n",
       "    <tr style=\"text-align: right;\">\n",
       "      <th></th>\n",
       "      <th>www.facebook.com</th>\n",
       "      <th>ligben.io</th>\n",
       "      <th>https://distrotest.net/</th>\n",
       "      <th>www.gmail.com</th>\n",
       "      <th>www.github.com</th>\n",
       "    </tr>\n",
       "  </thead>\n",
       "  <tbody>\n",
       "    <tr>\n",
       "      <th>0</th>\n",
       "      <td>edge-star-mini-shv-01-frt3.facebook.com</td>\n",
       "      <td>no-reverse-dns-configured.com</td>\n",
       "      <td>77-64-170-23.dynamic.primacom.net</td>\n",
       "      <td>fra15s17-in-f5.1e100.net</td>\n",
       "      <td>lb-192-30-253-113-iad.github.com</td>\n",
       "    </tr>\n",
       "  </tbody>\n",
       "</table>\n",
       "</div>"
      ],
      "text/plain": [
       "                          www.facebook.com                      ligben.io  \\\n",
       "0  edge-star-mini-shv-01-frt3.facebook.com  no-reverse-dns-configured.com   \n",
       "\n",
       "             https://distrotest.net/             www.gmail.com  \\\n",
       "0  77-64-170-23.dynamic.primacom.net  fra15s17-in-f5.1e100.net   \n",
       "\n",
       "                     www.github.com  \n",
       "0  lb-192-30-253-113-iad.github.com  "
      ]
     },
     "execution_count": 5,
     "metadata": {},
     "output_type": "execute_result"
    }
   ],
   "source": [
    "host_names_df.head()"
   ]
  },
  {
   "cell_type": "markdown",
   "metadata": {},
   "source": [
    "### host1 stats"
   ]
  },
  {
   "cell_type": "code",
   "execution_count": 6,
   "metadata": {
    "hide_input": true
   },
   "outputs": [],
   "source": [
    "#data_host1.head()"
   ]
  },
  {
   "cell_type": "code",
   "execution_count": 7,
   "metadata": {
    "hide_input": true
   },
   "outputs": [
    {
     "data": {
      "text/html": [
       "<div>\n",
       "<style scoped>\n",
       "    .dataframe tbody tr th:only-of-type {\n",
       "        vertical-align: middle;\n",
       "    }\n",
       "\n",
       "    .dataframe tbody tr th {\n",
       "        vertical-align: top;\n",
       "    }\n",
       "\n",
       "    .dataframe thead th {\n",
       "        text-align: right;\n",
       "    }\n",
       "</style>\n",
       "<table border=\"1\" class=\"dataframe\">\n",
       "  <thead>\n",
       "    <tr style=\"text-align: right;\">\n",
       "      <th></th>\n",
       "      <th>time of day</th>\n",
       "      <th>rtt avg</th>\n",
       "    </tr>\n",
       "  </thead>\n",
       "  <tbody>\n",
       "    <tr>\n",
       "      <th>0</th>\n",
       "      <td>16</td>\n",
       "      <td>97.56775</td>\n",
       "    </tr>\n",
       "    <tr>\n",
       "      <th>1</th>\n",
       "      <td>23</td>\n",
       "      <td>85.71065</td>\n",
       "    </tr>\n",
       "    <tr>\n",
       "      <th>2</th>\n",
       "      <td>0</td>\n",
       "      <td>85.69140</td>\n",
       "    </tr>\n",
       "  </tbody>\n",
       "</table>\n",
       "</div>"
      ],
      "text/plain": [
       "   time of day   rtt avg\n",
       "0           16  97.56775\n",
       "1           23  85.71065\n",
       "2            0  85.69140"
      ]
     },
     "execution_count": 7,
     "metadata": {},
     "output_type": "execute_result"
    }
   ],
   "source": [
    "host1_time_of_day_list = [16,23,0]\n",
    "host1_avg_rtt_list = []\n",
    "d1 = []\n",
    "for x in host1_time_of_day_list:\n",
    "    host1_avg_rtt_df = data_host1[data_host1['time of day']==x]\n",
    "    host1_avg_rtt_list.append(host1_avg_rtt_df['rtt avg'].mean())\n",
    "for (x,y) in zip(host1_time_of_day_list,host1_avg_rtt_list):\n",
    "    d1.append([x,y])\n",
    "D1 = pd.DataFrame(d1,columns=['time of day','rtt avg'])\n",
    "D1"
   ]
  },
  {
   "cell_type": "markdown",
   "metadata": {},
   "source": [
    "#### host1 packet loss > 0% stats"
   ]
  },
  {
   "cell_type": "code",
   "execution_count": 8,
   "metadata": {
    "hide_input": true
   },
   "outputs": [
    {
     "data": {
      "text/html": [
       "<div>\n",
       "<style scoped>\n",
       "    .dataframe tbody tr th:only-of-type {\n",
       "        vertical-align: middle;\n",
       "    }\n",
       "\n",
       "    .dataframe tbody tr th {\n",
       "        vertical-align: top;\n",
       "    }\n",
       "\n",
       "    .dataframe thead th {\n",
       "        text-align: right;\n",
       "    }\n",
       "</style>\n",
       "<table border=\"1\" class=\"dataframe\">\n",
       "  <thead>\n",
       "    <tr style=\"text-align: right;\">\n",
       "      <th></th>\n",
       "      <th>name</th>\n",
       "      <th>IP address</th>\n",
       "      <th>% packet loss</th>\n",
       "      <th>rtt min</th>\n",
       "      <th>rtt avg</th>\n",
       "      <th>rtt max</th>\n",
       "      <th>rtt mdev</th>\n",
       "      <th>time of day</th>\n",
       "      <th>packet_size</th>\n",
       "    </tr>\n",
       "  </thead>\n",
       "  <tbody>\n",
       "  </tbody>\n",
       "</table>\n",
       "</div>"
      ],
      "text/plain": [
       "Empty DataFrame\n",
       "Columns: [name, IP address, % packet loss, rtt min, rtt avg, rtt max, rtt mdev, time of day, packet_size]\n",
       "Index: []"
      ]
     },
     "execution_count": 8,
     "metadata": {},
     "output_type": "execute_result"
    }
   ],
   "source": [
    "host1_packet_loss_not0_df = data_host1[data_host1['% packet loss']!='0%']\n",
    "host1_packet_loss_not0_df.head()"
   ]
  },
  {
   "cell_type": "markdown",
   "metadata": {},
   "source": [
    "### host2 stats"
   ]
  },
  {
   "cell_type": "code",
   "execution_count": 9,
   "metadata": {
    "hide_input": true
   },
   "outputs": [],
   "source": [
    "#data_host2.head()"
   ]
  },
  {
   "cell_type": "code",
   "execution_count": 10,
   "metadata": {
    "hide_input": true
   },
   "outputs": [
    {
     "data": {
      "text/html": [
       "<div>\n",
       "<style scoped>\n",
       "    .dataframe tbody tr th:only-of-type {\n",
       "        vertical-align: middle;\n",
       "    }\n",
       "\n",
       "    .dataframe tbody tr th {\n",
       "        vertical-align: top;\n",
       "    }\n",
       "\n",
       "    .dataframe thead th {\n",
       "        text-align: right;\n",
       "    }\n",
       "</style>\n",
       "<table border=\"1\" class=\"dataframe\">\n",
       "  <thead>\n",
       "    <tr style=\"text-align: right;\">\n",
       "      <th></th>\n",
       "      <th>time of day</th>\n",
       "      <th>rtt avg</th>\n",
       "    </tr>\n",
       "  </thead>\n",
       "  <tbody>\n",
       "    <tr>\n",
       "      <th>0</th>\n",
       "      <td>16</td>\n",
       "      <td>478.12775</td>\n",
       "    </tr>\n",
       "    <tr>\n",
       "      <th>1</th>\n",
       "      <td>23</td>\n",
       "      <td>475.36325</td>\n",
       "    </tr>\n",
       "    <tr>\n",
       "      <th>2</th>\n",
       "      <td>0</td>\n",
       "      <td>59.20005</td>\n",
       "    </tr>\n",
       "  </tbody>\n",
       "</table>\n",
       "</div>"
      ],
      "text/plain": [
       "   time of day    rtt avg\n",
       "0           16  478.12775\n",
       "1           23  475.36325\n",
       "2            0   59.20005"
      ]
     },
     "execution_count": 10,
     "metadata": {},
     "output_type": "execute_result"
    }
   ],
   "source": [
    "host2_time_of_day_list = [16,23,0]\n",
    "host2_avg_rtt_list = []\n",
    "d2 = []\n",
    "for x in host2_time_of_day_list:\n",
    "    host2_avg_rtt_df = data_host2[data_host2['time of day']==x]\n",
    "    host2_avg_rtt_list.append(host2_avg_rtt_df['rtt avg'].mean())\n",
    "for (x,y) in zip(host2_time_of_day_list,host2_avg_rtt_list):\n",
    "    d2.append([x,y])\n",
    "D2 = pd.DataFrame(d2,columns=['time of day','rtt avg'])\n",
    "D2"
   ]
  },
  {
   "cell_type": "markdown",
   "metadata": {},
   "source": [
    "#### host2 packet loss > 0% stats"
   ]
  },
  {
   "cell_type": "code",
   "execution_count": 11,
   "metadata": {
    "hide_input": true
   },
   "outputs": [
    {
     "data": {
      "text/html": [
       "<div>\n",
       "<style scoped>\n",
       "    .dataframe tbody tr th:only-of-type {\n",
       "        vertical-align: middle;\n",
       "    }\n",
       "\n",
       "    .dataframe tbody tr th {\n",
       "        vertical-align: top;\n",
       "    }\n",
       "\n",
       "    .dataframe thead th {\n",
       "        text-align: right;\n",
       "    }\n",
       "</style>\n",
       "<table border=\"1\" class=\"dataframe\">\n",
       "  <thead>\n",
       "    <tr style=\"text-align: right;\">\n",
       "      <th></th>\n",
       "      <th>name</th>\n",
       "      <th>IP address</th>\n",
       "      <th>% packet loss</th>\n",
       "      <th>rtt min</th>\n",
       "      <th>rtt avg</th>\n",
       "      <th>rtt max</th>\n",
       "      <th>rtt mdev</th>\n",
       "      <th>time of day</th>\n",
       "      <th>packet_size</th>\n",
       "    </tr>\n",
       "  </thead>\n",
       "  <tbody>\n",
       "    <tr>\n",
       "      <th>0</th>\n",
       "      <td>no-reverse-dns-configured.com</td>\n",
       "      <td>81.171.22.7</td>\n",
       "      <td>60%</td>\n",
       "      <td>644.095</td>\n",
       "      <td>673.385</td>\n",
       "      <td>701.591</td>\n",
       "      <td>24.476</td>\n",
       "      <td>16</td>\n",
       "      <td>64</td>\n",
       "    </tr>\n",
       "    <tr>\n",
       "      <th>4</th>\n",
       "      <td>no-reverse-dns-configured.com</td>\n",
       "      <td>81.171.22.7</td>\n",
       "      <td>40%</td>\n",
       "      <td>605.473</td>\n",
       "      <td>677.117</td>\n",
       "      <td>806.046</td>\n",
       "      <td>71.284</td>\n",
       "      <td>16</td>\n",
       "      <td>64</td>\n",
       "    </tr>\n",
       "    <tr>\n",
       "      <th>5</th>\n",
       "      <td>no-reverse-dns-configured.com</td>\n",
       "      <td>81.171.22.7</td>\n",
       "      <td>30%</td>\n",
       "      <td>545.013</td>\n",
       "      <td>637.961</td>\n",
       "      <td>746.901</td>\n",
       "      <td>60.038</td>\n",
       "      <td>16</td>\n",
       "      <td>64</td>\n",
       "    </tr>\n",
       "    <tr>\n",
       "      <th>6</th>\n",
       "      <td>no-reverse-dns-configured.com</td>\n",
       "      <td>207.244.67.218</td>\n",
       "      <td>10%</td>\n",
       "      <td>518.437</td>\n",
       "      <td>608.082</td>\n",
       "      <td>692.761</td>\n",
       "      <td>60.912</td>\n",
       "      <td>16</td>\n",
       "      <td>64</td>\n",
       "    </tr>\n",
       "    <tr>\n",
       "      <th>10</th>\n",
       "      <td>no-reverse-dns-configured.com</td>\n",
       "      <td>207.244.67.218</td>\n",
       "      <td>10%</td>\n",
       "      <td>549.187</td>\n",
       "      <td>590.188</td>\n",
       "      <td>642.977</td>\n",
       "      <td>29.260</td>\n",
       "      <td>16</td>\n",
       "      <td>64</td>\n",
       "    </tr>\n",
       "    <tr>\n",
       "      <th>13</th>\n",
       "      <td>no-reverse-dns-configured.com</td>\n",
       "      <td>64.32.8.68</td>\n",
       "      <td>60%</td>\n",
       "      <td>70.726</td>\n",
       "      <td>70.760</td>\n",
       "      <td>70.797</td>\n",
       "      <td>0.025</td>\n",
       "      <td>16</td>\n",
       "      <td>64</td>\n",
       "    </tr>\n",
       "    <tr>\n",
       "      <th>14</th>\n",
       "      <td>no-reverse-dns-configured.com</td>\n",
       "      <td>207.244.67.218</td>\n",
       "      <td>30%</td>\n",
       "      <td>711.798</td>\n",
       "      <td>816.819</td>\n",
       "      <td>1002.714</td>\n",
       "      <td>88.342</td>\n",
       "      <td>16</td>\n",
       "      <td>64</td>\n",
       "    </tr>\n",
       "    <tr>\n",
       "      <th>16</th>\n",
       "      <td>no-reverse-dns-configured.com</td>\n",
       "      <td>64.32.8.68</td>\n",
       "      <td>50%</td>\n",
       "      <td>70.683</td>\n",
       "      <td>70.769</td>\n",
       "      <td>70.814</td>\n",
       "      <td>0.295</td>\n",
       "      <td>16</td>\n",
       "      <td>64</td>\n",
       "    </tr>\n",
       "    <tr>\n",
       "      <th>21</th>\n",
       "      <td>no-reverse-dns-configured.com</td>\n",
       "      <td>207.244.67.218</td>\n",
       "      <td>10%</td>\n",
       "      <td>744.103</td>\n",
       "      <td>879.495</td>\n",
       "      <td>981.353</td>\n",
       "      <td>65.639</td>\n",
       "      <td>23</td>\n",
       "      <td>64</td>\n",
       "    </tr>\n",
       "    <tr>\n",
       "      <th>22</th>\n",
       "      <td>no-reverse-dns-configured.com</td>\n",
       "      <td>207.244.67.218</td>\n",
       "      <td>10%</td>\n",
       "      <td>798.990</td>\n",
       "      <td>899.329</td>\n",
       "      <td>981.432</td>\n",
       "      <td>54.759</td>\n",
       "      <td>23</td>\n",
       "      <td>64</td>\n",
       "    </tr>\n",
       "  </tbody>\n",
       "</table>\n",
       "</div>"
      ],
      "text/plain": [
       "                             name      IP address % packet loss  rtt min  \\\n",
       "0   no-reverse-dns-configured.com     81.171.22.7           60%  644.095   \n",
       "4   no-reverse-dns-configured.com     81.171.22.7           40%  605.473   \n",
       "5   no-reverse-dns-configured.com     81.171.22.7           30%  545.013   \n",
       "6   no-reverse-dns-configured.com  207.244.67.218           10%  518.437   \n",
       "10  no-reverse-dns-configured.com  207.244.67.218           10%  549.187   \n",
       "13  no-reverse-dns-configured.com      64.32.8.68           60%   70.726   \n",
       "14  no-reverse-dns-configured.com  207.244.67.218           30%  711.798   \n",
       "16  no-reverse-dns-configured.com      64.32.8.68           50%   70.683   \n",
       "21  no-reverse-dns-configured.com  207.244.67.218           10%  744.103   \n",
       "22  no-reverse-dns-configured.com  207.244.67.218           10%  798.990   \n",
       "\n",
       "    rtt avg   rtt max  rtt mdev  time of day  packet_size  \n",
       "0   673.385   701.591    24.476           16           64  \n",
       "4   677.117   806.046    71.284           16           64  \n",
       "5   637.961   746.901    60.038           16           64  \n",
       "6   608.082   692.761    60.912           16           64  \n",
       "10  590.188   642.977    29.260           16           64  \n",
       "13   70.760    70.797     0.025           16           64  \n",
       "14  816.819  1002.714    88.342           16           64  \n",
       "16   70.769    70.814     0.295           16           64  \n",
       "21  879.495   981.353    65.639           23           64  \n",
       "22  899.329   981.432    54.759           23           64  "
      ]
     },
     "execution_count": 11,
     "metadata": {},
     "output_type": "execute_result"
    }
   ],
   "source": [
    "host2_packet_loss_not0_df = data_host2[data_host2['% packet loss']!='0%']\n",
    "host2_packet_loss_not0_df.head(10)"
   ]
  },
  {
   "cell_type": "markdown",
   "metadata": {},
   "source": [
    "### host3 stats"
   ]
  },
  {
   "cell_type": "code",
   "execution_count": 12,
   "metadata": {
    "hide_input": true
   },
   "outputs": [],
   "source": [
    "#data_host3.head()"
   ]
  },
  {
   "cell_type": "code",
   "execution_count": 13,
   "metadata": {
    "hide_input": true
   },
   "outputs": [
    {
     "data": {
      "text/html": [
       "<div>\n",
       "<style scoped>\n",
       "    .dataframe tbody tr th:only-of-type {\n",
       "        vertical-align: middle;\n",
       "    }\n",
       "\n",
       "    .dataframe tbody tr th {\n",
       "        vertical-align: top;\n",
       "    }\n",
       "\n",
       "    .dataframe thead th {\n",
       "        text-align: right;\n",
       "    }\n",
       "</style>\n",
       "<table border=\"1\" class=\"dataframe\">\n",
       "  <thead>\n",
       "    <tr style=\"text-align: right;\">\n",
       "      <th></th>\n",
       "      <th>time of day</th>\n",
       "      <th>rtt avg</th>\n",
       "    </tr>\n",
       "  </thead>\n",
       "  <tbody>\n",
       "    <tr>\n",
       "      <th>0</th>\n",
       "      <td>16</td>\n",
       "      <td>130.02690</td>\n",
       "    </tr>\n",
       "    <tr>\n",
       "      <th>1</th>\n",
       "      <td>23</td>\n",
       "      <td>131.12605</td>\n",
       "    </tr>\n",
       "    <tr>\n",
       "      <th>2</th>\n",
       "      <td>0</td>\n",
       "      <td>130.91160</td>\n",
       "    </tr>\n",
       "  </tbody>\n",
       "</table>\n",
       "</div>"
      ],
      "text/plain": [
       "   time of day    rtt avg\n",
       "0           16  130.02690\n",
       "1           23  131.12605\n",
       "2            0  130.91160"
      ]
     },
     "execution_count": 13,
     "metadata": {},
     "output_type": "execute_result"
    }
   ],
   "source": [
    "host3_time_of_day_list = [16,23,0]\n",
    "host3_avg_rtt_list = []\n",
    "d3 = []\n",
    "for x in host3_time_of_day_list:\n",
    "    host3_avg_rtt_df = data_host3[data_host3['time of day']==x]\n",
    "    host3_avg_rtt_list.append(host3_avg_rtt_df['rtt avg'].mean())\n",
    "for (x,y) in zip(host3_time_of_day_list,host3_avg_rtt_list):\n",
    "    d3.append([x,y])\n",
    "D3 = pd.DataFrame(d3,columns=['time of day','rtt avg'])\n",
    "D3"
   ]
  },
  {
   "cell_type": "markdown",
   "metadata": {},
   "source": [
    "#### host3 packet loss > 0% stats"
   ]
  },
  {
   "cell_type": "code",
   "execution_count": 14,
   "metadata": {
    "hide_input": true
   },
   "outputs": [
    {
     "data": {
      "text/html": [
       "<div>\n",
       "<style scoped>\n",
       "    .dataframe tbody tr th:only-of-type {\n",
       "        vertical-align: middle;\n",
       "    }\n",
       "\n",
       "    .dataframe tbody tr th {\n",
       "        vertical-align: top;\n",
       "    }\n",
       "\n",
       "    .dataframe thead th {\n",
       "        text-align: right;\n",
       "    }\n",
       "</style>\n",
       "<table border=\"1\" class=\"dataframe\">\n",
       "  <thead>\n",
       "    <tr style=\"text-align: right;\">\n",
       "      <th></th>\n",
       "      <th>name</th>\n",
       "      <th>IP address</th>\n",
       "      <th>% packet loss</th>\n",
       "      <th>rtt min</th>\n",
       "      <th>rtt avg</th>\n",
       "      <th>rtt max</th>\n",
       "      <th>rtt mdev</th>\n",
       "      <th>time of day</th>\n",
       "      <th>packet_size</th>\n",
       "    </tr>\n",
       "  </thead>\n",
       "  <tbody>\n",
       "  </tbody>\n",
       "</table>\n",
       "</div>"
      ],
      "text/plain": [
       "Empty DataFrame\n",
       "Columns: [name, IP address, % packet loss, rtt min, rtt avg, rtt max, rtt mdev, time of day, packet_size]\n",
       "Index: []"
      ]
     },
     "execution_count": 14,
     "metadata": {},
     "output_type": "execute_result"
    }
   ],
   "source": [
    "host3_packet_loss_not0_df = data_host3[data_host3['% packet loss']!='0%']\n",
    "host3_packet_loss_not0_df.head()"
   ]
  },
  {
   "cell_type": "markdown",
   "metadata": {},
   "source": [
    "### host4 stats"
   ]
  },
  {
   "cell_type": "code",
   "execution_count": 15,
   "metadata": {
    "hide_input": true
   },
   "outputs": [],
   "source": [
    "#data_host4.head()"
   ]
  },
  {
   "cell_type": "code",
   "execution_count": 16,
   "metadata": {
    "hide_input": true
   },
   "outputs": [
    {
     "data": {
      "text/html": [
       "<div>\n",
       "<style scoped>\n",
       "    .dataframe tbody tr th:only-of-type {\n",
       "        vertical-align: middle;\n",
       "    }\n",
       "\n",
       "    .dataframe tbody tr th {\n",
       "        vertical-align: top;\n",
       "    }\n",
       "\n",
       "    .dataframe thead th {\n",
       "        text-align: right;\n",
       "    }\n",
       "</style>\n",
       "<table border=\"1\" class=\"dataframe\">\n",
       "  <thead>\n",
       "    <tr style=\"text-align: right;\">\n",
       "      <th></th>\n",
       "      <th>time of day</th>\n",
       "      <th>rtt avg</th>\n",
       "    </tr>\n",
       "  </thead>\n",
       "  <tbody>\n",
       "    <tr>\n",
       "      <th>0</th>\n",
       "      <td>16</td>\n",
       "      <td>60.43605</td>\n",
       "    </tr>\n",
       "    <tr>\n",
       "      <th>1</th>\n",
       "      <td>23</td>\n",
       "      <td>53.49640</td>\n",
       "    </tr>\n",
       "    <tr>\n",
       "      <th>2</th>\n",
       "      <td>0</td>\n",
       "      <td>32.09665</td>\n",
       "    </tr>\n",
       "  </tbody>\n",
       "</table>\n",
       "</div>"
      ],
      "text/plain": [
       "   time of day   rtt avg\n",
       "0           16  60.43605\n",
       "1           23  53.49640\n",
       "2            0  32.09665"
      ]
     },
     "execution_count": 16,
     "metadata": {},
     "output_type": "execute_result"
    }
   ],
   "source": [
    "host4_time_of_day_list = [16,23,0]\n",
    "host4_avg_rtt_list = []\n",
    "d4 = []\n",
    "for x in host4_time_of_day_list:\n",
    "    host4_avg_rtt_df = data_host4[data_host4['time of day']==x]\n",
    "    host4_avg_rtt_list.append(host4_avg_rtt_df['rtt avg'].mean())\n",
    "for (x,y) in zip(host4_time_of_day_list,host4_avg_rtt_list):\n",
    "    d4.append([x,y])\n",
    "D4 = pd.DataFrame(d4,columns=['time of day','rtt avg'])\n",
    "D4"
   ]
  },
  {
   "cell_type": "markdown",
   "metadata": {},
   "source": [
    "#### host4 packet loss > 0% stats"
   ]
  },
  {
   "cell_type": "code",
   "execution_count": 17,
   "metadata": {
    "hide_input": true
   },
   "outputs": [
    {
     "data": {
      "text/html": [
       "<div>\n",
       "<style scoped>\n",
       "    .dataframe tbody tr th:only-of-type {\n",
       "        vertical-align: middle;\n",
       "    }\n",
       "\n",
       "    .dataframe tbody tr th {\n",
       "        vertical-align: top;\n",
       "    }\n",
       "\n",
       "    .dataframe thead th {\n",
       "        text-align: right;\n",
       "    }\n",
       "</style>\n",
       "<table border=\"1\" class=\"dataframe\">\n",
       "  <thead>\n",
       "    <tr style=\"text-align: right;\">\n",
       "      <th></th>\n",
       "      <th>name</th>\n",
       "      <th>IP address</th>\n",
       "      <th>% packet loss</th>\n",
       "      <th>rtt min</th>\n",
       "      <th>rtt avg</th>\n",
       "      <th>rtt max</th>\n",
       "      <th>rtt mdev</th>\n",
       "      <th>time of day</th>\n",
       "      <th>packet_size</th>\n",
       "    </tr>\n",
       "  </thead>\n",
       "  <tbody>\n",
       "  </tbody>\n",
       "</table>\n",
       "</div>"
      ],
      "text/plain": [
       "Empty DataFrame\n",
       "Columns: [name, IP address, % packet loss, rtt min, rtt avg, rtt max, rtt mdev, time of day, packet_size]\n",
       "Index: []"
      ]
     },
     "execution_count": 17,
     "metadata": {},
     "output_type": "execute_result"
    }
   ],
   "source": [
    "host4_packet_loss_not0_df = data_host4[data_host4['% packet loss']!='0%']\n",
    "host4_packet_loss_not0_df.head()"
   ]
  },
  {
   "cell_type": "markdown",
   "metadata": {},
   "source": [
    "### host5 stats"
   ]
  },
  {
   "cell_type": "code",
   "execution_count": 18,
   "metadata": {
    "hide_input": true
   },
   "outputs": [],
   "source": [
    "#data_host5.head()"
   ]
  },
  {
   "cell_type": "code",
   "execution_count": 19,
   "metadata": {
    "hide_input": true
   },
   "outputs": [
    {
     "data": {
      "text/html": [
       "<div>\n",
       "<style scoped>\n",
       "    .dataframe tbody tr th:only-of-type {\n",
       "        vertical-align: middle;\n",
       "    }\n",
       "\n",
       "    .dataframe tbody tr th {\n",
       "        vertical-align: top;\n",
       "    }\n",
       "\n",
       "    .dataframe thead th {\n",
       "        text-align: right;\n",
       "    }\n",
       "</style>\n",
       "<table border=\"1\" class=\"dataframe\">\n",
       "  <thead>\n",
       "    <tr style=\"text-align: right;\">\n",
       "      <th></th>\n",
       "      <th>time of day</th>\n",
       "      <th>rtt avg</th>\n",
       "    </tr>\n",
       "  </thead>\n",
       "  <tbody>\n",
       "    <tr>\n",
       "      <th>0</th>\n",
       "      <td>16</td>\n",
       "      <td>597.88420</td>\n",
       "    </tr>\n",
       "    <tr>\n",
       "      <th>1</th>\n",
       "      <td>23</td>\n",
       "      <td>32.00675</td>\n",
       "    </tr>\n",
       "    <tr>\n",
       "      <th>2</th>\n",
       "      <td>0</td>\n",
       "      <td>31.17940</td>\n",
       "    </tr>\n",
       "  </tbody>\n",
       "</table>\n",
       "</div>"
      ],
      "text/plain": [
       "   time of day    rtt avg\n",
       "0           16  597.88420\n",
       "1           23   32.00675\n",
       "2            0   31.17940"
      ]
     },
     "execution_count": 19,
     "metadata": {},
     "output_type": "execute_result"
    }
   ],
   "source": [
    "host5_time_of_day_list = [16,23,0]\n",
    "host5_avg_rtt_list = []\n",
    "d5 = []\n",
    "for x in host5_time_of_day_list:\n",
    "    host5_avg_rtt_df = data_host5[data_host5['time of day']==x]\n",
    "    host5_avg_rtt_list.append(host5_avg_rtt_df['rtt avg'].mean())\n",
    "for (x,y) in zip(host5_time_of_day_list,host5_avg_rtt_list):\n",
    "    d5.append([x,y])\n",
    "D5 = pd.DataFrame(d5,columns=['time of day','rtt avg'])\n",
    "D5"
   ]
  },
  {
   "cell_type": "markdown",
   "metadata": {},
   "source": [
    "#### host5 packet loss > 0% stats"
   ]
  },
  {
   "cell_type": "code",
   "execution_count": 20,
   "metadata": {
    "hide_input": true
   },
   "outputs": [
    {
     "data": {
      "text/html": [
       "<div>\n",
       "<style scoped>\n",
       "    .dataframe tbody tr th:only-of-type {\n",
       "        vertical-align: middle;\n",
       "    }\n",
       "\n",
       "    .dataframe tbody tr th {\n",
       "        vertical-align: top;\n",
       "    }\n",
       "\n",
       "    .dataframe thead th {\n",
       "        text-align: right;\n",
       "    }\n",
       "</style>\n",
       "<table border=\"1\" class=\"dataframe\">\n",
       "  <thead>\n",
       "    <tr style=\"text-align: right;\">\n",
       "      <th></th>\n",
       "      <th>name</th>\n",
       "      <th>IP address</th>\n",
       "      <th>% packet loss</th>\n",
       "      <th>rtt min</th>\n",
       "      <th>rtt avg</th>\n",
       "      <th>rtt max</th>\n",
       "      <th>rtt mdev</th>\n",
       "      <th>time of day</th>\n",
       "      <th>packet_size</th>\n",
       "    </tr>\n",
       "  </thead>\n",
       "  <tbody>\n",
       "    <tr>\n",
       "      <th>1</th>\n",
       "      <td>lb-192-30-253-113-iad.github.com</td>\n",
       "      <td>192.30.253.113</td>\n",
       "      <td>10%</td>\n",
       "      <td>543.271</td>\n",
       "      <td>596.078</td>\n",
       "      <td>646.322</td>\n",
       "      <td>37.860</td>\n",
       "      <td>16</td>\n",
       "      <td>64</td>\n",
       "    </tr>\n",
       "    <tr>\n",
       "      <th>5</th>\n",
       "      <td>lb-192-30-253-113-iad.github.com</td>\n",
       "      <td>192.30.253.113</td>\n",
       "      <td>10%</td>\n",
       "      <td>515.742</td>\n",
       "      <td>563.243</td>\n",
       "      <td>611.480</td>\n",
       "      <td>29.173</td>\n",
       "      <td>16</td>\n",
       "      <td>64</td>\n",
       "    </tr>\n",
       "    <tr>\n",
       "      <th>10</th>\n",
       "      <td>lb-192-30-253-113-iad.github.com</td>\n",
       "      <td>192.30.253.113</td>\n",
       "      <td>10%</td>\n",
       "      <td>545.990</td>\n",
       "      <td>626.497</td>\n",
       "      <td>688.748</td>\n",
       "      <td>40.341</td>\n",
       "      <td>16</td>\n",
       "      <td>64</td>\n",
       "    </tr>\n",
       "    <tr>\n",
       "      <th>14</th>\n",
       "      <td>lb-192-30-253-113-iad.github.com</td>\n",
       "      <td>192.30.253.113</td>\n",
       "      <td>10%</td>\n",
       "      <td>482.807</td>\n",
       "      <td>573.220</td>\n",
       "      <td>637.876</td>\n",
       "      <td>52.025</td>\n",
       "      <td>16</td>\n",
       "      <td>64</td>\n",
       "    </tr>\n",
       "    <tr>\n",
       "      <th>15</th>\n",
       "      <td>lb-192-30-253-113-iad.github.com</td>\n",
       "      <td>192.30.253.113</td>\n",
       "      <td>10%</td>\n",
       "      <td>533.569</td>\n",
       "      <td>597.031</td>\n",
       "      <td>653.313</td>\n",
       "      <td>40.110</td>\n",
       "      <td>16</td>\n",
       "      <td>64</td>\n",
       "    </tr>\n",
       "    <tr>\n",
       "      <th>16</th>\n",
       "      <td>lb-192-30-253-113-iad.github.com</td>\n",
       "      <td>192.30.253.113</td>\n",
       "      <td>10%</td>\n",
       "      <td>452.317</td>\n",
       "      <td>550.576</td>\n",
       "      <td>631.162</td>\n",
       "      <td>54.830</td>\n",
       "      <td>16</td>\n",
       "      <td>64</td>\n",
       "    </tr>\n",
       "  </tbody>\n",
       "</table>\n",
       "</div>"
      ],
      "text/plain": [
       "                                name      IP address % packet loss  rtt min  \\\n",
       "1   lb-192-30-253-113-iad.github.com  192.30.253.113           10%  543.271   \n",
       "5   lb-192-30-253-113-iad.github.com  192.30.253.113           10%  515.742   \n",
       "10  lb-192-30-253-113-iad.github.com  192.30.253.113           10%  545.990   \n",
       "14  lb-192-30-253-113-iad.github.com  192.30.253.113           10%  482.807   \n",
       "15  lb-192-30-253-113-iad.github.com  192.30.253.113           10%  533.569   \n",
       "16  lb-192-30-253-113-iad.github.com  192.30.253.113           10%  452.317   \n",
       "\n",
       "    rtt avg  rtt max  rtt mdev  time of day  packet_size  \n",
       "1   596.078  646.322    37.860           16           64  \n",
       "5   563.243  611.480    29.173           16           64  \n",
       "10  626.497  688.748    40.341           16           64  \n",
       "14  573.220  637.876    52.025           16           64  \n",
       "15  597.031  653.313    40.110           16           64  \n",
       "16  550.576  631.162    54.830           16           64  "
      ]
     },
     "execution_count": 20,
     "metadata": {},
     "output_type": "execute_result"
    }
   ],
   "source": [
    "host5_packet_loss_not0_df = data_host5[data_host5['% packet loss']!='0%']\n",
    "host5_packet_loss_not0_df.head(10)"
   ]
  },
  {
   "cell_type": "markdown",
   "metadata": {},
   "source": [
    "**Four Causes of Packet Loss**\n",
    "1. Link Congestion\n",
    "\n",
    "Your data must travel through multiple devices and links during its trip across your network. If one of these links is at full capacity when your data arrives, then it must wait its turn before being sent across the wire (this is known as queuing).\n",
    "2. Device (Router/Switch/Firewall/etc.) Performance\n",
    "\n",
    "If your bandwidth is adequate, you can still face an issue if your router/switch/firewall is not able to keep up with the traffic.The traffic is reaching the device, but the device’s CPU or memory is maxed out and not able to handle extra traffic.\n",
    "3. Software issues (bugs) on a network device\n",
    "\n",
    "You must upgrade the software on the affected device(s).\n",
    "4. Faulty Hardware or Cabling\n",
    "\n",
    "The faulty hardware must be replaced, or the fault link must be repaired."
   ]
  },
  {
   "cell_type": "markdown",
   "metadata": {},
   "source": [
    "### geographical distance affects avg rtt\n",
    "There is a positive correlation between distance and RTT. There are a number of reasons for this. For example, an increased hop count. The packets have to go through more routers, at each router there may be a delay, therefore more routers, the longer the RTT.\n",
    "As can be seen from the stats that the server of host2 (libgen.io) is farther than the rest."
   ]
  },
  {
   "cell_type": "markdown",
   "metadata": {},
   "source": [
    "### time of day affects avg rtt"
   ]
  },
  {
   "cell_type": "code",
   "execution_count": 21,
   "metadata": {
    "hide_input": true
   },
   "outputs": [
    {
     "data": {
      "image/png": "[encoded data removed]",
      "text/plain": [
       "<Figure size 1080x360 with 1 Axes>"
      ]
     },
     "metadata": {},
     "output_type": "display_data"
    }
   ],
   "source": [
    "fig = plt.figure(figsize=(15,5))\n",
    "ax1 = fig.add_subplot(111)\n",
    "sns.pointplot(x='time of day',y='rtt avg',data=D1, ax=ax1, color='#41ab5d',label='www.facebook.com')\n",
    "sns.pointplot(x='time of day',y='rtt avg',data=D2, ax=ax1, color='#c79fef',label='ligben.io')\n",
    "sns.pointplot(x='time of day',y='rtt avg',data=D3, ax=ax1, color='#f97306',label='https://distrotest.net/')\n",
    "sns.pointplot(x='time of day',y='rtt avg',data=D4, ax=ax1, color='#c20078',label='www.gmail.com')\n",
    "sns.pointplot(x='time of day',y='rtt avg',data=D5, ax=ax1, color='#0485d1',label='www.github.com')\n",
    "\n",
    "ax1.legend(handles=ax1.lines[::len(D1)+1], labels=[\"www.facebook.com\",\n",
    "                                                   \"ligben.io\",\n",
    "                                                   \"https://distrotest.net/\",\n",
    "                                                   \"www.gmail.com\",\n",
    "                                                   \"www.github.com\"])\n",
    "# https://stackoverflow.com/questions/42767489/add-legend-to-seaborn-point-plot\n",
    "\n",
    "plt.title('Time of Day vs Avg. RTT',size=18)\n",
    "plt.xlabel('time of day',size=15)\n",
    "plt.ylabel('rtt avg',size=15)\n",
    "plt.grid()\n",
    "plt.show()"
   ]
  },
  {
   "cell_type": "markdown",
   "metadata": {},
   "source": [
    "### change in packet size affects avg rtt"
   ]
  },
  {
   "cell_type": "code",
   "execution_count": 22,
   "metadata": {
    "hide_input": true
   },
   "outputs": [
    {
     "data": {
      "text/html": [
       "<div>\n",
       "<style scoped>\n",
       "    .dataframe tbody tr th:only-of-type {\n",
       "        vertical-align: middle;\n",
       "    }\n",
       "\n",
       "    .dataframe tbody tr th {\n",
       "        vertical-align: top;\n",
       "    }\n",
       "\n",
       "    .dataframe thead th {\n",
       "        text-align: right;\n",
       "    }\n",
       "</style>\n",
       "<table border=\"1\" class=\"dataframe\">\n",
       "  <thead>\n",
       "    <tr style=\"text-align: right;\">\n",
       "      <th></th>\n",
       "      <th>name</th>\n",
       "      <th>IP address</th>\n",
       "      <th>% packet loss</th>\n",
       "      <th>rtt min</th>\n",
       "      <th>rtt avg</th>\n",
       "      <th>rtt max</th>\n",
       "      <th>rtt mdev</th>\n",
       "      <th>time of day</th>\n",
       "      <th>packet_size</th>\n",
       "    </tr>\n",
       "  </thead>\n",
       "  <tbody>\n",
       "    <tr>\n",
       "      <th>0</th>\n",
       "      <td>lb-192-30-253-113-iad.github.com</td>\n",
       "      <td>192.30.253.113</td>\n",
       "      <td>0%</td>\n",
       "      <td>31.115</td>\n",
       "      <td>31.203</td>\n",
       "      <td>31.249</td>\n",
       "      <td>0.226</td>\n",
       "      <td>1</td>\n",
       "      <td>64</td>\n",
       "    </tr>\n",
       "    <tr>\n",
       "      <th>1</th>\n",
       "      <td>lb-192-30-253-113-iad.github.com</td>\n",
       "      <td>192.30.253.113</td>\n",
       "      <td>0%</td>\n",
       "      <td>30.915</td>\n",
       "      <td>31.516</td>\n",
       "      <td>31.696</td>\n",
       "      <td>0.317</td>\n",
       "      <td>1</td>\n",
       "      <td>128</td>\n",
       "    </tr>\n",
       "    <tr>\n",
       "      <th>2</th>\n",
       "      <td>lb-192-30-253-113-iad.github.com</td>\n",
       "      <td>192.30.253.113</td>\n",
       "      <td>0%</td>\n",
       "      <td>32.287</td>\n",
       "      <td>32.405</td>\n",
       "      <td>32.591</td>\n",
       "      <td>0.231</td>\n",
       "      <td>1</td>\n",
       "      <td>256</td>\n",
       "    </tr>\n",
       "    <tr>\n",
       "      <th>3</th>\n",
       "      <td>lb-192-30-253-113-iad.github.com</td>\n",
       "      <td>192.30.253.113</td>\n",
       "      <td>0%</td>\n",
       "      <td>33.686</td>\n",
       "      <td>33.775</td>\n",
       "      <td>33.886</td>\n",
       "      <td>0.239</td>\n",
       "      <td>1</td>\n",
       "      <td>512</td>\n",
       "    </tr>\n",
       "    <tr>\n",
       "      <th>4</th>\n",
       "      <td>lb-192-30-253-113-iad.github.com</td>\n",
       "      <td>192.30.253.113</td>\n",
       "      <td>0%</td>\n",
       "      <td>36.792</td>\n",
       "      <td>36.897</td>\n",
       "      <td>37.199</td>\n",
       "      <td>0.140</td>\n",
       "      <td>1</td>\n",
       "      <td>1024</td>\n",
       "    </tr>\n",
       "  </tbody>\n",
       "</table>\n",
       "</div>"
      ],
      "text/plain": [
       "                               name      IP address % packet loss  rtt min  \\\n",
       "0  lb-192-30-253-113-iad.github.com  192.30.253.113            0%   31.115   \n",
       "1  lb-192-30-253-113-iad.github.com  192.30.253.113            0%   30.915   \n",
       "2  lb-192-30-253-113-iad.github.com  192.30.253.113            0%   32.287   \n",
       "3  lb-192-30-253-113-iad.github.com  192.30.253.113            0%   33.686   \n",
       "4  lb-192-30-253-113-iad.github.com  192.30.253.113            0%   36.792   \n",
       "\n",
       "   rtt avg  rtt max  rtt mdev  time of day  packet_size  \n",
       "0   31.203   31.249     0.226            1           64  \n",
       "1   31.516   31.696     0.317            1          128  \n",
       "2   32.405   32.591     0.231            1          256  \n",
       "3   33.775   33.886     0.239            1          512  \n",
       "4   36.897   37.199     0.140            1         1024  "
      ]
     },
     "execution_count": 22,
     "metadata": {},
     "output_type": "execute_result"
    }
   ],
   "source": [
    "data_host5_packet_variation = pd.read_csv('data_host5_packet_variation.csv')\n",
    "data_host5_packet_variation.head()"
   ]
  },
  {
   "cell_type": "code",
   "execution_count": 23,
   "metadata": {
    "hide_input": true
   },
   "outputs": [
    {
     "data": {
      "text/html": [
       "<div>\n",
       "<style scoped>\n",
       "    .dataframe tbody tr th:only-of-type {\n",
       "        vertical-align: middle;\n",
       "    }\n",
       "\n",
       "    .dataframe tbody tr th {\n",
       "        vertical-align: top;\n",
       "    }\n",
       "\n",
       "    .dataframe thead th {\n",
       "        text-align: right;\n",
       "    }\n",
       "</style>\n",
       "<table border=\"1\" class=\"dataframe\">\n",
       "  <thead>\n",
       "    <tr style=\"text-align: right;\">\n",
       "      <th></th>\n",
       "      <th>packet_size</th>\n",
       "      <th>rtt avg</th>\n",
       "    </tr>\n",
       "  </thead>\n",
       "  <tbody>\n",
       "    <tr>\n",
       "      <th>0</th>\n",
       "      <td>64</td>\n",
       "      <td>31.203</td>\n",
       "    </tr>\n",
       "    <tr>\n",
       "      <th>1</th>\n",
       "      <td>128</td>\n",
       "      <td>31.516</td>\n",
       "    </tr>\n",
       "    <tr>\n",
       "      <th>2</th>\n",
       "      <td>256</td>\n",
       "      <td>32.405</td>\n",
       "    </tr>\n",
       "    <tr>\n",
       "      <th>3</th>\n",
       "      <td>512</td>\n",
       "      <td>33.775</td>\n",
       "    </tr>\n",
       "    <tr>\n",
       "      <th>4</th>\n",
       "      <td>1024</td>\n",
       "      <td>36.897</td>\n",
       "    </tr>\n",
       "  </tbody>\n",
       "</table>\n",
       "</div>"
      ],
      "text/plain": [
       "   packet_size  rtt avg\n",
       "0           64   31.203\n",
       "1          128   31.516\n",
       "2          256   32.405\n",
       "3          512   33.775\n",
       "4         1024   36.897"
      ]
     },
     "execution_count": 23,
     "metadata": {},
     "output_type": "execute_result"
    }
   ],
   "source": [
    "D5_packet_variation = data_host5_packet_variation[['packet_size','rtt avg']]\n",
    "D5_packet_variation.head()"
   ]
  },
  {
   "cell_type": "code",
   "execution_count": 24,
   "metadata": {
    "hide_input": true
   },
   "outputs": [
    {
     "data": {
      "image/png": "[encoded data removed]",
      "text/plain": [
       "<Figure size 720x360 with 1 Axes>"
      ]
     },
     "metadata": {},
     "output_type": "display_data"
    }
   ],
   "source": [
    "fig = plt.figure(figsize=(10,5))\n",
    "ax1 = fig.add_subplot(111)\n",
    "sns.pointplot(x='packet_size',y='rtt avg',data=D5_packet_variation, ax=ax1, color='#c20078')\n",
    "plt.title('Packet Size vs Avg. RTT',size=18)\n",
    "plt.xlabel('packet_size',size=15)\n",
    "plt.ylabel('rtt avg',size=15)\n",
    "plt.grid()"
   ]
  }
 ],
 "metadata": {
  "kernelspec": {
   "display_name": "Python 3",
   "language": "python",
   "name": "python3"
  },
  "language_info": {
   "codemirror_mode": {
    "name": "ipython",
    "version": 3
   },
   "file_extension": ".py",
   "mimetype": "text/x-python",
   "name": "python",
   "nbconvert_exporter": "python",
   "pygments_lexer": "ipython3",
   "version": "3.6.5"
  },
  "varInspector": {
   "cols": {
    "lenName": 16,
    "lenType": 16,
    "lenVar": 40
   },
   "kernels_config": {
    "python": {
     "delete_cmd_postfix": "",
     "delete_cmd_prefix": "del ",
     "library": "var_list.py",
     "varRefreshCmd": "print(var_dic_list())"
    },
    "r": {
     "delete_cmd_postfix": ") ",
     "delete_cmd_prefix": "rm(",
     "library": "var_list.r",
     "varRefreshCmd": "cat(var_dic_list()) "
    }
   },
   "types_to_exclude": [
    "module",
    "function",
    "builtin_function_or_method",
    "instance",
    "_Feature"
   ],
   "window_display": false
  }
 },
 "nbformat": 4,
 "nbformat_minor": 2
}
